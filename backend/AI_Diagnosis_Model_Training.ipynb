{
 "cells": [
  {
   "cell_type": "markdown",
   "metadata": {},
   "source": [
    "# AI Diagnosis Model Training for MediChain\n",
    "\n",
    "## Objective\n",
    "Train an AI diagnosis model using symptoms dataset to predict medical conditions based on patient symptoms.\n",
    "\n",
    "## Dataset\n",
    "- **symptoms_dataset.csv**: Contains binary symptom indicators and corresponding diagnoses\n",
    "- **Features**: fever, cough, fatigue, shortness_of_breath, headache, sore_throat\n",
    "- **Target**: diagnosis (medical condition)\n",
    "\n",
    "## Model\n",
    "- **Algorithm**: Random Forest Classifier\n",
    "- **Evaluation**: Accuracy score and classification report\n",
    "- **Output**: diagnosis_model.pkl for Flask backend integration"
   ]
  },
  {
   "cell_type": "markdown",
   "metadata": {},
   "source": [
    "## 1. Import Required Libraries"
   ]
  },
  {
   "cell_type": "code",
   "execution_count": null,
   "metadata": {},
   "outputs": [],
   "source": [
    "import pandas as pd\n",
    "import numpy as np\n",
    "import matplotlib.pyplot as plt\n",
    "import seaborn as sns\n",
    "from sklearn.model_selection import train_test_split\n",
    "from sklearn.ensemble import RandomForestClassifier\n",
    "from sklearn.metrics import accuracy_score, classification_report, confusion_matrix\n",
    "from sklearn.preprocessing import LabelEncoder\n",
    "import joblib\n",
    "import warnings\n",
    "warnings.filterwarnings('ignore')\n",
    "\n",
    "# Set random seed for reproducibility\n",
    "np.random.seed(42)"
   ]
  },
  {
   "cell_type": "markdown",
   "metadata": {},
   "source": [
    "## 2. Load and Explore the Dataset"
   ]
  },
  {
   "cell_type": "code",
   "execution_count": null,
   "metadata": {},
   "outputs": [],
   "source": [
    "# Load the dataset\n",
    "df = pd.read_csv('symptoms_dataset.csv')\n",
    "\n",
    "# Display basic information\n",
    "print(\"Dataset Shape:\", df.shape)\n",
    "print(\"\\nColumn Names:\", df.columns.tolist())\n",
    "print(\"\\nFirst 5 rows:\")\n",
    "df.head()"
   ]
  },
  {
   "cell_type": "code",
   "execution_count": null,
   "metadata": {},
   "outputs": [],
   "source": [
    "# Check for missing values\n",
    "print(\"Missing values per column:\")\n",
    "print(df.isnull().sum())\n",
    "\n",
    "# Display data types\n",
    "print(\"\\nData Types:\")\n",
    "print(df.dtypes)"
   ]
  },
  {
   "cell_type": "markdown",
   "metadata": {},
   "source": [
    "## 3. Exploratory Data Analysis"
   ]
  },
  {
   "cell_type": "code",
   "execution_count": null,
   "metadata": {},
   "outputs": [],
   "source": [
    "# Count of each diagnosis\n",
    "diagnosis_counts = df['diagnosis'].value_counts()\n",
    "print(\"Diagnosis Distribution:\")\n",
    "print(diagnosis_counts)\n",
    "\n",
    "# Visualize diagnosis distribution\n",
    "plt.figure(figsize=(12, 6))\n",
    "diagnosis_counts.plot(kind='bar')\n",
    "plt.title('Distribution of Diagnoses')\n",
    "plt.xlabel('Diagnosis')\n",
    "plt.ylabel('Count')\n",
    "plt.xticks(rotation=45)\n",
    "plt.tight_layout()\n",
    "plt.show()"
   ]
  },
  {
   "cell_type": "code",
   "execution_count": null,
   "metadata": {},
   "outputs": [],
   "source": [
    "# Correlation heatmap\n",
    "plt.figure(figsize=(10, 8))\n",
    "correlation_matrix = df.corr()\n",
    "sns.heatmap(correlation_matrix, annot=True, cmap='coolwarm', center=0)\n",
    "plt.title('Correlation Matrix of Symptoms')\n",
    "plt.tight_layout()\n",
    "plt.show()"
   ]
  },
  {
   "cell_type": "markdown",
   "metadata": {},
   "source": [
    "## 4. Prepare Data for Training"
   ]
  },
  {
   "cell_type": "code",
   "execution_count": null,
   "metadata": {},
   "outputs": [],
   "source": [
    "# Separate features and target\n",
    "X = df.drop('diagnosis', axis=1)\n",
    "y = df['diagnosis']\n",
    "\n",
    "# Encode the target variable\n",
    "label_encoder = LabelEncoder()\n",
    "y_encoded = label_encoder.fit_transform(y)\n",
    "\n",
    "print(\"Features shape:\", X.shape)\n",
    "print(\"Target shape:\", y_encoded.shape)\n",
    "print(\"\\nUnique diagnoses:\", label_encoder.classes_)\n",
    "print(\"\\nEncoded labels:\", np.unique(y_encoded))"
   ]
  },
  {
   "cell_type": "code",
   "execution_count": null,
   "metadata": {},
   "outputs": [],
   "source": [
    "# Split the data\n",
    "X_train, X_test, y_train, y_test = train_test_split(\n",
    "    X, y_encoded, test_size=0.2, random_state=42, stratify=y_encoded\n",
    ")\n",
    "\n",
    "print(\"Training set size:\", X_train.shape)\n",
    "print(\"Test set size:\", X_test.shape)\n",
    "print(\"\\nTraining set class distribution:\")\n",
    "print(pd.Series(y_train).value_counts())"
   ]
  },
  {
   "cell_type": "markdown",
   "metadata": {},
   "source": [
    "## 5. Train the Random Forest Model"
   ]
  },
  {
   "cell_type": "code",
   "execution_count": null,
   "metadata": {},
   "outputs": [],
   "source": [
    "# Initialize and train the model\n",
    "rf_model = RandomForestClassifier(\n",
    "    n_estimators=100,\n",
    "    max_depth=10,\n",
    "    min_samples_split=5,\n",
    "    random_state=42,\n",
    "    n_jobs=-1\n",
    ")\n",
    "\n",
    "# Train the model\n",
    "rf_model.fit(X_train, y_train)\n",
    "\n",
    "print(\"Model training completed!\")\n",
    "print(\"Number of features:\", rf_model.n_features_in_)\n",
    "print(\"Feature importances:\", rf_model.feature_importances_)"
   ]
  },
  {
   "cell_type": "code",
   "execution_count": null,
   "metadata": {},
   "outputs": [],
   "source": [
    "# Feature importance visualization\n",
    "feature_importance = pd.DataFrame({\n",
    "    'feature': X.columns,\n",
    "    'importance': rf_model.feature_importances_\n",
    "}).sort_values('importance', ascending=False)\n",
    "\n",
    "plt.figure(figsize=(10, 6))\n",
    "sns.barplot(data=feature_importance, x='importance', y='feature')\n",
    "plt.title('Feature Importance in Diagnosis Prediction')\n",
    "plt.xlabel('Importance Score')\n",
    "plt.tight_layout()\n",
    "plt.show()"
   ]
  },
  {
   "cell_type": "markdown",
   "metadata": {},
   "source": [
    "## 6. Model Evaluation"
   ]
  },
  {
   "cell_type": "code",
   "execution_count": null,
   "metadata": {},
   "outputs": [],
   "source": [
    "# Make predictions\n",
    "y_pred = rf_model.predict(X_test)\n",
    "\n",
    "# Calculate accuracy\n",
    "accuracy = accuracy_score(y_test, y_pred)\n",
    "print(f\"Model Accuracy: {accuracy:.4f}\")\n",
    "\n",
    "# Detailed classification report\n",
    "print(\"\\nClassification Report:\")\n",
    "print(classification_report(y_test, y_pred, target_names=label_encoder.classes_))"
   ]
  },
  {
   "cell_type": "code",
   "execution_count": null,
   "metadata": {},
   "outputs": [],
   "source": [
    "# Confusion matrix\n",
    "cm = confusion_matrix(y_test, y_pred)\n",
    "\n",
    "plt.figure(figsize=(10, 8))\n",
    "sns.heatmap(cm, annot=True, fmt='d', cmap='Blues', \n",
    "            xticklabels=label_encoder.classes_, \n",
    "            yticklabels=label_encoder.classes_)\n",
    "plt.title('Confusion Matrix')\n",
    "plt.xlabel('Predicted')\n",
    "plt.ylabel('Actual')\n",
    "plt.xticks(rotation=45)\n",
    "plt.yticks(rotation=0)\n",
    "plt.tight_layout()\n",
    "plt.show()"
   ]
  },
  {
   "cell_type": "markdown",
   "metadata": {},
   "source": [
    "## 7. Test Model with Sample Cases"
   ]
  },
  {
   "cell_type": "code",
   "execution_count": null,
   "metadata": {},
   "outputs": [],
   "source": [
    "# Test cases\n",
    "test_cases = [\n",
    "    [1, 1, 1, 0, 1, 1],  # High fever, cough, fatigue, headache, sore throat\n",
    "    [1, 0, 1, 1, 0, 0],  # High fever, fatigue, shortness of breath\n",
    "    [0, 1, 0, 0, 1, 1],  # Cough, headache, sore throat\n",
    "    [1, 1, 1, 1, 0, 0],  # All symptoms except headache and sore throat\n",
    "    [0, 0, 1, 0, 1, 0]   # Fatigue and headache only\n",
    "]\n",
    "\n",
    "test_df = pd.DataFrame(test_cases, columns=X.columns)\n",
    "\n",
    "# Make predictions\n",
    "predictions = rf_model.predict(test_df)\n",
    "predicted_diagnoses = label_encoder.inverse_transform(predictions)\n",
    "\n",
    "# Display results\n",
    "for i, (case, diagnosis) in enumerate(zip(test_cases, predicted_diagnoses)):\n",
    "    print(f\"Case {i+1}: {dict(zip(X.columns, case))}\")\n",
    "    print(f\"Predicted Diagnosis: {diagnosis}\")\n",
    "    print(\"-\" * 50)"
   ]
  },
  {
   "cell_type": "markdown",
   "metadata": {},
   "source": [
    "## 8. Save the Model and Encoders"
   ]
  },
  {
   "cell_type": "code",
   "execution_count": null,
   "metadata": {},
   "outputs": [],
   "source": [
    "# Save the trained model\n",
    "joblib.dump(rf_model, 'diagnosis_model.pkl')\n",
    "print(\"Model saved as 'diagnosis_model.pkl'\")\n",
    "\n",
    "# Save the label encoder\n",
    "joblib.dump(label_encoder, 'label_encoder.pkl')\n",
    "print(\"Label encoder saved as 'label_encoder.pkl'\")\n",
    "\n",
    "# Save feature names\n",
    "joblib.dump(X.columns.tolist(), 'feature_names.pkl')\n",
    "print(\"Feature names saved as 'feature_names.pkl'\")"
   ]
  },
  {
   "cell_type": "markdown",
   "metadata": {},
   "source": [
    "## 9. Create Model Summary Report"
   ]
  },
  {
   "cell_type": "code",
   "execution_count": null,
   "metadata": {},
   "outputs": [],
   "source": [
    "# Create a summary report\n",
    "summary = {\n",
    "    'model_type': 'Random Forest Classifier',\n",
    "    'accuracy': accuracy,\n",
    "    'num_features': len(X.columns),\n",
    "    'feature_names': X.columns.tolist(),\n",
    "    'num_classes': len(label_encoder.classes_),\n",
    "    'class_names': label_encoder.classes_.tolist(),\n",
    "    'training_samples': len(X_train),\n",
    "    'test_samples': len(X_test),\n",
    "    'feature_importance': dict(zip(X.columns, rf_model.feature_importances_))\n",
    "}\n",
    "\n",
    "print(\"=== MODEL SUMMARY ===\")\n",
    "for key, value in summary.items():\n",
    "    print(f\"{key}: {value}\")\n",
    "\n",
    "# Save summary to JSON\n",
    "import json\n",
    "with open('model_summary.json', 'w') as f:\n",
    "    json.dump(summary, f, indent=2)\n",
    "print(\"\\nModel summary saved to 'model_summary.json'\")"
   ]
  },
  {
   "cell_type": "markdown",
   "metadata": {},
   "source": [
    "## 10. Integration with Flask Backend"
   ]
  },
  {
   "cell_type": "code",
   "execution_count": null,
   "metadata": {},
   "outputs": [],
   "source": [
    "# Create a simple prediction function for Flask integration\n",
    "def predict_diagnosis(symptoms_dict):\n",
    "    \"\"\"\n",
    "    Predict diagnosis from symptoms dictionary\n",
    "    \n",
    "    Args:\n",
    "        symptoms_dict: Dictionary with symptom names as keys and binary values\n",
    "    \n",
    "    Returns:\n",
    "        Dictionary with predicted diagnosis and confidence\n",
    "    \"\"\"\n",
    "    # Load model and encoder\n",
    "    model = joblib.load('diagnosis_model.pkl')\n",
    "    encoder = joblib.load('label_encoder.pkl')\n",
    "    features = joblib.load('feature_names.pkl')\n",
    "    \n",
    "    # Create input array\n",
    "    input_data = [symptoms_dict.get(feature, 0) for feature in features]\n",
    "    \n",
    "    # Make prediction\n",
    "    prediction = model.predict([input_data])[0]\n",
    "    probabilities = model.predict_proba([input_data])[0]\n",
    "    \n",
    "    # Get diagnosis and confidence\n",
    "    diagnosis = encoder.inverse_transform([prediction])[0]\n",
    "    confidence = probabilities[prediction]\n",
    "    \n",
    "    return {\n",
    "        'diagnosis': diagnosis,\n",
    "        'confidence': float(confidence),\n",
    "        'all_probabilities': {\n",
    "            encoder.inverse_transform([i])[0]: float(prob) \n",
    "            for i, prob in enumerate(probabilities)\n",
    "        }\n",
    "    }\n",
    "\n",
    "# Test the function\n",
    "test_symptoms = {\n",
    "    'fever': 1,\n",
    "    'cough': 1,\n",
    "    'fatigue': 1,\n",
    "    'shortness_of_breath': 0,\n",
    "    'headache': 1,\n",
    "    'sore_throat': 1\n",
    "}\n",
    "\n",
    "result = predict_diagnosis(test_symptoms)\n",
    "print(\"Test Result:\", result)"
   ]
  }
 ],
 "metadata": {
  "kernelspec": {
   "display_name": "Python 3",
   "language": "python",
   "name": "python3"
  },
  "language_info": {
   "codemirror_mode": {
    "name": "ipython",
    "version": 3
   },
   "file_extension": ".py",
   "mimetype": "text/x-python",
   "name": "python",
   "nbconvert_exporter": "python",
   "pygments_lexer": "ipython3",
   "version": "3.8.5"
  }
 },
 "nbformat": 4,
 "nbformat_minor": 4
}
